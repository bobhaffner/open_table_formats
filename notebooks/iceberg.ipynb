{
 "cells": [
  {
   "cell_type": "markdown",
   "id": "9e0e0e34-269f-41a2-9e8b-c93896f1555b",
   "metadata": {},
   "source": [
    "# Branching with Iceberg"
   ]
  },
  {
   "cell_type": "code",
   "execution_count": 2,
   "id": "43bf29ae-d5e8-4f8e-bf90-40f39cfb7dd1",
   "metadata": {},
   "outputs": [
    {
     "name": "stdout",
     "output_type": "stream",
     "text": [
      "spark is running\n"
     ]
    }
   ],
   "source": [
    "import pyspark\n",
    "from pyspark.sql import SparkSession\n",
    "\n",
    "\n",
    "conf = (\n",
    "    pyspark.SparkConf()\n",
    "        .setAppName('app_name')\n",
    "    \n",
    "    # first we will define the packages that we need. Iceberg Spark runtime\n",
    "        .set('spark.jars.packages', \n",
    "             'org.apache.iceberg:iceberg-spark-runtime-3.3_2.12:1.2.0,software.amazon.awssdk:bundle:2.17.178,software.amazon.awssdk:url-connection-client:2.17.178')\n",
    "        \n",
    "    # This property allows us to add any extensions that we want to use\n",
    "        .set('spark.sql.extensions', \n",
    "             'org.apache.iceberg.spark.extensions.IcebergSparkSessionExtensions')\n",
    "    \n",
    "    # configures a new catalog to a particular implementation of SparkCatalog\n",
    "        .set('spark.sql.catalog.glue', \n",
    "             'org.apache.iceberg.spark.SparkCatalog')\n",
    "    \n",
    "    # particular type of catalog we are using\n",
    "        .set('spark.sql.catalog.glue.catalog-impl', \n",
    "             'org.apache.iceberg.aws.glue.GlueCatalog')\n",
    "    \n",
    "    # engine writes to the warehouse\n",
    "        .set('spark.sql.catalog.glue.warehouse', \n",
    "             's3://ids-sample-iceberg-datasets/sampledb/')\n",
    "    \n",
    "    # changes IO impl of catalog, mainly for changing writing data to object storage\n",
    "        .set('spark.sql.catalog.glue.io-impl', \n",
    "             'org.apache.iceberg.aws.s3.S3FileIO')\n",
    "    )\n",
    "\n",
    "## Start Spark Session\n",
    "spark = SparkSession.builder.config(conf=conf).getOrCreate()\n",
    "print('spark is running')"
   ]
  },
  {
   "cell_type": "code",
   "execution_count": 3,
   "id": "90957378-e92a-4568-b47a-4f9b37348f94",
   "metadata": {},
   "outputs": [
    {
     "name": "stdout",
     "output_type": "stream",
     "text": [
      "table has been created\n"
     ]
    }
   ],
   "source": [
    "# CREATE a new Iceberg table 'employees'\n",
    "_ = spark.sql(\n",
    "    \"\"\"CREATE TABLE IF NOT EXISTS glue.sampledb.employees\n",
    "       (id int, name STRING, position STRING, salary int, some_feature int) \n",
    "       USING iceberg\"\"\"\n",
    ")\n",
    "print('table has been created')"
   ]
  },
  {
   "cell_type": "code",
   "execution_count": 4,
   "id": "65efb4b0-e510-4530-99ac-5e761a7538e7",
   "metadata": {},
   "outputs": [
    {
     "name": "stdout",
     "output_type": "stream",
     "text": [
      "records have been inserted\n"
     ]
    }
   ],
   "source": [
    "# INSERT some records\n",
    "_ = spark.sql(\"\"\"INSERT INTO glue.sampledb.employees \n",
    "                 VALUES (1, 'Steve', 'Clerk', 22000, 20), \n",
    "                        (2, 'Gary', 'Sales', 18000, 10)\"\"\"\n",
    "             )\n",
    "print('records have been inserted')"
   ]
  },
  {
   "cell_type": "code",
   "execution_count": 5,
   "id": "6eb30ad3-6152-498c-a9f2-7dce384221fd",
   "metadata": {},
   "outputs": [
    {
     "data": {
      "text/html": [
       "<div>\n",
       "<style scoped>\n",
       "    .dataframe tbody tr th:only-of-type {\n",
       "        vertical-align: middle;\n",
       "    }\n",
       "\n",
       "    .dataframe tbody tr th {\n",
       "        vertical-align: top;\n",
       "    }\n",
       "\n",
       "    .dataframe thead th {\n",
       "        text-align: right;\n",
       "    }\n",
       "</style>\n",
       "<table border=\"1\" class=\"dataframe\">\n",
       "  <thead>\n",
       "    <tr style=\"text-align: right;\">\n",
       "      <th></th>\n",
       "      <th>id</th>\n",
       "      <th>name</th>\n",
       "      <th>position</th>\n",
       "      <th>salary</th>\n",
       "      <th>some_feature</th>\n",
       "    </tr>\n",
       "  </thead>\n",
       "  <tbody>\n",
       "    <tr>\n",
       "      <th>0</th>\n",
       "      <td>1</td>\n",
       "      <td>Steve</td>\n",
       "      <td>Clerk</td>\n",
       "      <td>22000</td>\n",
       "      <td>20</td>\n",
       "    </tr>\n",
       "    <tr>\n",
       "      <th>1</th>\n",
       "      <td>2</td>\n",
       "      <td>Gary</td>\n",
       "      <td>Sales</td>\n",
       "      <td>18000</td>\n",
       "      <td>10</td>\n",
       "    </tr>\n",
       "  </tbody>\n",
       "</table>\n",
       "</div>"
      ],
      "text/plain": [
       "   id   name position  salary  some_feature\n",
       "0   1  Steve    Clerk   22000            20\n",
       "1   2   Gary    Sales   18000            10"
      ]
     },
     "execution_count": 5,
     "metadata": {},
     "output_type": "execute_result"
    }
   ],
   "source": [
    "spark.sql(\"SELECT * FROM glue.sampledb.employees\").toPandas()"
   ]
  },
  {
   "cell_type": "code",
   "execution_count": 6,
   "id": "657487fb-5ef2-4a37-bc58-62febc29c6a9",
   "metadata": {},
   "outputs": [
    {
     "name": "stdout",
     "output_type": "stream",
     "text": [
      "branch has been created\n"
     ]
    }
   ],
   "source": [
    "# CREATE a new branch\n",
    "_ = spark.sql(\"ALTER TABLE glue.sampledb.employees CREATE BRANCH bobs_branch\")\n",
    "print('branch has been created')"
   ]
  },
  {
   "cell_type": "code",
   "execution_count": 8,
   "id": "d653f0d6-c479-45be-bbdc-3461759ddf8a",
   "metadata": {},
   "outputs": [
    {
     "data": {
      "text/html": [
       "<div>\n",
       "<style scoped>\n",
       "    .dataframe tbody tr th:only-of-type {\n",
       "        vertical-align: middle;\n",
       "    }\n",
       "\n",
       "    .dataframe tbody tr th {\n",
       "        vertical-align: top;\n",
       "    }\n",
       "\n",
       "    .dataframe thead th {\n",
       "        text-align: right;\n",
       "    }\n",
       "</style>\n",
       "<table border=\"1\" class=\"dataframe\">\n",
       "  <thead>\n",
       "    <tr style=\"text-align: right;\">\n",
       "      <th></th>\n",
       "      <th>name</th>\n",
       "      <th>type</th>\n",
       "      <th>snapshot_id</th>\n",
       "    </tr>\n",
       "  </thead>\n",
       "  <tbody>\n",
       "    <tr>\n",
       "      <th>0</th>\n",
       "      <td>main</td>\n",
       "      <td>BRANCH</td>\n",
       "      <td>5091110345986725637</td>\n",
       "    </tr>\n",
       "    <tr>\n",
       "      <th>1</th>\n",
       "      <td>bobs_branch</td>\n",
       "      <td>BRANCH</td>\n",
       "      <td>5091110345986725637</td>\n",
       "    </tr>\n",
       "  </tbody>\n",
       "</table>\n",
       "</div>"
      ],
      "text/plain": [
       "          name    type          snapshot_id\n",
       "0         main  BRANCH  5091110345986725637\n",
       "1  bobs_branch  BRANCH  5091110345986725637"
      ]
     },
     "execution_count": 8,
     "metadata": {},
     "output_type": "execute_result"
    }
   ],
   "source": [
    "# query sys table to get branches\n",
    "spark.sql(\"SELECT name, type, snapshot_id FROM glue.sampledb.employees.refs\").toPandas()"
   ]
  },
  {
   "cell_type": "code",
   "execution_count": 13,
   "id": "9813eeab-4d14-4b0d-8dad-53536446b0b4",
   "metadata": {},
   "outputs": [
    {
     "data": {
      "text/html": [
       "<div>\n",
       "<style scoped>\n",
       "    .dataframe tbody tr th:only-of-type {\n",
       "        vertical-align: middle;\n",
       "    }\n",
       "\n",
       "    .dataframe tbody tr th {\n",
       "        vertical-align: top;\n",
       "    }\n",
       "\n",
       "    .dataframe thead th {\n",
       "        text-align: right;\n",
       "    }\n",
       "</style>\n",
       "<table border=\"1\" class=\"dataframe\">\n",
       "  <thead>\n",
       "    <tr style=\"text-align: right;\">\n",
       "      <th></th>\n",
       "      <th>id</th>\n",
       "      <th>name</th>\n",
       "      <th>role</th>\n",
       "      <th>salary</th>\n",
       "      <th>some_feature</th>\n",
       "    </tr>\n",
       "  </thead>\n",
       "  <tbody>\n",
       "    <tr>\n",
       "      <th>0</th>\n",
       "      <td>1</td>\n",
       "      <td>Steve</td>\n",
       "      <td>Clerk</td>\n",
       "      <td>22000.0</td>\n",
       "      <td>2000</td>\n",
       "    </tr>\n",
       "    <tr>\n",
       "      <th>1</th>\n",
       "      <td>2</td>\n",
       "      <td>Gary</td>\n",
       "      <td>Sales</td>\n",
       "      <td>18000.0</td>\n",
       "      <td>1000</td>\n",
       "    </tr>\n",
       "  </tbody>\n",
       "</table>\n",
       "</div>"
      ],
      "text/plain": [
       "   id   name   role   salary  some_feature\n",
       "0   1  Steve  Clerk  22000.0          2000\n",
       "1   2   Gary  Sales  18000.0          1000"
      ]
     },
     "execution_count": 13,
     "metadata": {},
     "output_type": "execute_result"
    }
   ],
   "source": [
    "# read the iceberg table and write the table with new values for some_feature\n",
    "df = spark.sql(\"SELECT * FROM glue.sampledb.employees\")\n",
    "df.withColumn('some_feature', df.some_feature * 100).write.format(\"iceberg\").option(\"branch\", \"bobs_branch\").mode(\"overwrite\").save(\"glue.sampledb.employees\")\n",
    "\n",
    "# Check the records in the BRANCH after records were updated\n",
    "spark.sql(\"SELECT * FROM glue.sampledb.employees VERSION AS OF 'bobs_branch'\").toPandas()"
   ]
  },
  {
   "cell_type": "code",
   "execution_count": 14,
   "id": "6039c994-f095-4fb1-877b-6258934559c0",
   "metadata": {},
   "outputs": [
    {
     "data": {
      "text/html": [
       "<div>\n",
       "<style scoped>\n",
       "    .dataframe tbody tr th:only-of-type {\n",
       "        vertical-align: middle;\n",
       "    }\n",
       "\n",
       "    .dataframe tbody tr th {\n",
       "        vertical-align: top;\n",
       "    }\n",
       "\n",
       "    .dataframe thead th {\n",
       "        text-align: right;\n",
       "    }\n",
       "</style>\n",
       "<table border=\"1\" class=\"dataframe\">\n",
       "  <thead>\n",
       "    <tr style=\"text-align: right;\">\n",
       "      <th></th>\n",
       "      <th>id</th>\n",
       "      <th>name</th>\n",
       "      <th>role</th>\n",
       "      <th>salary</th>\n",
       "      <th>some_feature</th>\n",
       "    </tr>\n",
       "  </thead>\n",
       "  <tbody>\n",
       "    <tr>\n",
       "      <th>0</th>\n",
       "      <td>1</td>\n",
       "      <td>Steve</td>\n",
       "      <td>Clerk</td>\n",
       "      <td>22000.0</td>\n",
       "      <td>20</td>\n",
       "    </tr>\n",
       "    <tr>\n",
       "      <th>1</th>\n",
       "      <td>2</td>\n",
       "      <td>Gary</td>\n",
       "      <td>Sales</td>\n",
       "      <td>18000.0</td>\n",
       "      <td>10</td>\n",
       "    </tr>\n",
       "  </tbody>\n",
       "</table>\n",
       "</div>"
      ],
      "text/plain": [
       "   id   name   role   salary  some_feature\n",
       "0   1  Steve  Clerk  22000.0            20\n",
       "1   2   Gary  Sales  18000.0            10"
      ]
     },
     "execution_count": 14,
     "metadata": {},
     "output_type": "execute_result"
    }
   ],
   "source": [
    "spark.sql(\"SELECT * FROM glue.sampledb.employees\").toPandas()"
   ]
  },
  {
   "cell_type": "code",
   "execution_count": 15,
   "id": "3c4f581b-f506-48fc-9b16-58685488e3ce",
   "metadata": {},
   "outputs": [
    {
     "data": {
      "text/html": [
       "<div>\n",
       "<style scoped>\n",
       "    .dataframe tbody tr th:only-of-type {\n",
       "        vertical-align: middle;\n",
       "    }\n",
       "\n",
       "    .dataframe tbody tr th {\n",
       "        vertical-align: top;\n",
       "    }\n",
       "\n",
       "    .dataframe thead th {\n",
       "        text-align: right;\n",
       "    }\n",
       "</style>\n",
       "<table border=\"1\" class=\"dataframe\">\n",
       "  <thead>\n",
       "    <tr style=\"text-align: right;\">\n",
       "      <th></th>\n",
       "      <th>name</th>\n",
       "      <th>type</th>\n",
       "      <th>snapshot_id</th>\n",
       "      <th>max_reference_age_in_ms</th>\n",
       "      <th>min_snapshots_to_keep</th>\n",
       "      <th>max_snapshot_age_in_ms</th>\n",
       "    </tr>\n",
       "  </thead>\n",
       "  <tbody>\n",
       "    <tr>\n",
       "      <th>0</th>\n",
       "      <td>main</td>\n",
       "      <td>BRANCH</td>\n",
       "      <td>1534453947479327056</td>\n",
       "      <td>NaN</td>\n",
       "      <td>NaN</td>\n",
       "      <td>NaN</td>\n",
       "    </tr>\n",
       "  </tbody>\n",
       "</table>\n",
       "</div>"
      ],
      "text/plain": [
       "   name    type          snapshot_id  max_reference_age_in_ms  \\\n",
       "0  main  BRANCH  1534453947479327056                      NaN   \n",
       "\n",
       "   min_snapshots_to_keep  max_snapshot_age_in_ms  \n",
       "0                    NaN                     NaN  "
      ]
     },
     "execution_count": 15,
     "metadata": {},
     "output_type": "execute_result"
    }
   ],
   "source": [
    "# DROP the branch and query a sys branch table\n",
    "spark.sql(\"ALTER TABLE glue.sampledb.employees DROP BRANCH bobs_branch\")\n",
    "\n",
    "# query sys table to get branches\n",
    "spark.sql(\"SELECT name, type, snapshot_id FROM glue.sampledb.employees.refs\").toPandas()"
   ]
  },
  {
   "cell_type": "markdown",
   "id": "4535239e-0dc0-429f-845c-f636cc4ed23e",
   "metadata": {},
   "source": [
    "### * Branching is also handy for the Write, Audit and Publish (WAP) pattern\n",
    "### * This is at the table level, but check out project [Nessie](https://github.com/projectnessie/nessie/) for catalog level branching"
   ]
  },
  {
   "cell_type": "code",
   "execution_count": null,
   "id": "194cc115-29d5-4287-8b60-a8b234eac1b6",
   "metadata": {},
   "outputs": [],
   "source": []
  },
  {
   "cell_type": "code",
   "execution_count": null,
   "id": "916b13c2-38ba-46b5-abbb-6c5eda1a5783",
   "metadata": {},
   "outputs": [],
   "source": []
  },
  {
   "cell_type": "code",
   "execution_count": null,
   "id": "4d07d4ee-43dc-4b73-87ba-7da18201cee3",
   "metadata": {},
   "outputs": [],
   "source": []
  }
 ],
 "metadata": {
  "kernelspec": {
   "display_name": "Python 3 (ipykernel)",
   "language": "python",
   "name": "python3"
  },
  "language_info": {
   "codemirror_mode": {
    "name": "ipython",
    "version": 3
   },
   "file_extension": ".py",
   "mimetype": "text/x-python",
   "name": "python",
   "nbconvert_exporter": "python",
   "pygments_lexer": "ipython3",
   "version": "3.10.6"
  }
 },
 "nbformat": 4,
 "nbformat_minor": 5
}
